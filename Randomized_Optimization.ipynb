{
 "cells": [
  {
   "cell_type": "code",
   "execution_count": 304,
   "id": "ef75373f",
   "metadata": {
    "scrolled": true
   },
   "outputs": [],
   "source": [
    "import random\n",
    "import time\n",
    "import math\n",
    "from scipy.stats import rv_discrete\n",
    "import numpy as np\n",
    "import matplotlib.pyplot as plt\n",
    "import pandas as pd\n",
    "import six\n",
    "import sys\n",
    "sys.modules['sklearn.externals.six'] = six\n",
    "import mlrose\n",
    "from itertools import combinations\n",
    "from collections import Counter\n",
    "from mlrose_hiive.runners import MIMICRunner\n",
    "from mlrose_hiive.generators import TSPGenerator"
   ]
  },
  {
   "cell_type": "markdown",
   "id": "9e7142e5",
   "metadata": {},
   "source": [
    "##### Problem 1: Suppose we want to find the binary string of length 10 that maximizes the number of 1's. In other words, we want to find the binary string x that maximizes the objective function f(x) = number of 1's in x. The solution space for this problem consists of 2^10 = 1024 possible binary strings of length 10."
   ]
  },
  {
   "cell_type": "code",
   "execution_count": 579,
   "id": "b242a471",
   "metadata": {},
   "outputs": [],
   "source": [
    "# Define the objective function\n",
    "def f(x):\n",
    "    return sum([int(xi) for xi in x])"
   ]
  },
  {
   "cell_type": "code",
   "execution_count": 580,
   "id": "69434102",
   "metadata": {},
   "outputs": [],
   "source": [
    "# Define the length of the binary string\n",
    "n = 10\n",
    "# Define the initial solution\n",
    "x = ''.join([str(random.randint(0,1)) for i in range(n)])\n",
    "max_f = f(x)"
   ]
  },
  {
   "cell_type": "code",
   "execution_count": 581,
   "id": "d78a3cd3",
   "metadata": {},
   "outputs": [
    {
     "data": {
      "text/plain": [
       "'1111001011'"
      ]
     },
     "execution_count": 581,
     "metadata": {},
     "output_type": "execute_result"
    }
   ],
   "source": [
    "x"
   ]
  },
  {
   "cell_type": "code",
   "execution_count": 582,
   "id": "934ebb72",
   "metadata": {},
   "outputs": [
    {
     "data": {
      "text/plain": [
       "7"
      ]
     },
     "execution_count": 582,
     "metadata": {},
     "output_type": "execute_result"
    }
   ],
   "source": [
    "f(x)"
   ]
  },
  {
   "cell_type": "markdown",
   "id": "8e411abd",
   "metadata": {},
   "source": [
    "##### Solve by Randomized Hill Climbing"
   ]
  },
  {
   "cell_type": "markdown",
   "id": "0cdbc960",
   "metadata": {},
   "source": [
    "###### Advantage of RHC: One advantage of RHC in this problem is that the search space is relatively small, which means that the algorithm is likely to find the optimal solution quickly. The randomization in RHC also allows the algorithm to explore different parts of the search space and potentially avoid getting stuck in local optima."
   ]
  },
  {
   "cell_type": "code",
   "execution_count": 583,
   "id": "0e469e57",
   "metadata": {},
   "outputs": [
    {
     "name": "stdout",
     "output_type": "stream",
     "text": [
      "The number of iteration it takes to achieve the maximum value: 21\n",
      "Total time: 0.004495143890380859\n",
      "Average time per iteration: 4.495143890380859e-06\n",
      "Maximum value of f(x) found by RHC: 10\n",
      "Solution that achieves the maximum value is 1111111111\n"
     ]
    },
    {
     "data": {
      "image/png": "[encoded data removed]",
      "text/plain": [
       "<Figure size 432x288 with 1 Axes>"
      ]
     },
     "metadata": {
      "needs_background": "light"
     },
     "output_type": "display_data"
    }
   ],
   "source": [
    "# Define th enumber of iterations\n",
    "iterations = 1000\n",
    "num_run = 0\n",
    "\n",
    "# Main loop\n",
    "start_time = time.time()\n",
    "fitness_hist = []\n",
    "for i in range(iterations):\n",
    "    # Genereate a new candidate solution\n",
    "    x_new = list(x)\n",
    "    j = random.randint(0, n-1)\n",
    "    x_new[j] = '0' if x_new[j] == '1' else '1'\n",
    "    x_new = ''.join(x_new)\n",
    "    \n",
    "    # Calculate the value of the objective function for the new solution\n",
    "    f_new = f(x_new)\n",
    "    \n",
    "    # Check if the new solution is better than the current solution\n",
    "    if f_new > max_f:\n",
    "        max_f = f_new\n",
    "        x = x_new\n",
    "    # Calculate the number of iterations so far\n",
    "    num_run += 1\n",
    "    #if max_f == 10:\n",
    "        #break\n",
    "    fitness_hist.append(f_new)\n",
    "end_time = time.time()\n",
    "\n",
    "plt.plot(range(iterations), fitness_hist)\n",
    "plt.xlabel('Iterations')\n",
    "plt.ylabel('Fitness Score by RHC')\n",
    "    \n",
    "\n",
    "# Print the maximum value of the objective function and the corresppoinding solution\n",
    "print(\"The number of iteration it takes to achieve the maximum value:\", np.argmax(fitness_hist))\n",
    "print(\"Total time:\", (end_time - start_time))\n",
    "print(\"Average time per iteration:\", (end_time - start_time)/num_run)\n",
    "print(\"Maximum value of f(x) found by RHC:\", max_f)\n",
    "print(\"Solution that achieves the maximum value is\", x)\n"
   ]
  },
  {
   "cell_type": "markdown",
   "id": "8066c35f",
   "metadata": {},
   "source": [
    "##### Solve by Simulated Annealing"
   ]
  },
  {
   "cell_type": "code",
   "execution_count": 546,
   "id": "c38c303f",
   "metadata": {},
   "outputs": [
    {
     "name": "stdout",
     "output_type": "stream",
     "text": [
      "The number of iteration it takes to achieve the maximum value: 33\n",
      "Total time: 0.6653602123260498\n",
      "Average time per iteration: 0.0006653602123260498\n",
      "Maximum value of f(x) found by Simulated Annealing: 10\n",
      "Solution that achieves the maximum value is 1111111111\n"
     ]
    },
    {
     "data": {
      "image/png": "[encoded data removed]",
      "text/plain": [
       "<Figure size 432x288 with 1 Axes>"
      ]
     },
     "metadata": {
      "needs_background": "light"
     },
     "output_type": "display_data"
    }
   ],
   "source": [
    "# Define the initial temprature and cooling rate\n",
    "T = 1.0\n",
    "cooling_rate = 0.01\n",
    "\n",
    "#Define the number of iterations at each temperature\n",
    "iterations = 100\n",
    "\n",
    "\n",
    "# Main loop\n",
    "start_time = time.time()\n",
    "fitness_hist = []\n",
    "while T > 1e-6:\n",
    "    for i in range(iterations):\n",
    "        # Generate a new condidate solution\n",
    "        x_new = list(x)\n",
    "        j = random.randint(0, n-1)\n",
    "        x_new[j] = '0' if x_new[j] == '1' else '1'\n",
    "        x_new = ''.join(x_new)\n",
    "        \n",
    "        # Calculate the value of the objective function for the new solution\n",
    "        f_new = f(x_new)\n",
    "        \n",
    "        # Calculate the acceptance probability\n",
    "        delta_f = f_new - max_f\n",
    "        acceptance_prob = math.exp(delta_f / T)\n",
    "        \n",
    "        # Check if the new solution is better than the current solution\n",
    "        if f_new > max_f or random.uniform(0,1) < acceptance_prob:\n",
    "            max_f = f_new\n",
    "            x = x_new\n",
    "            \n",
    "        # Calculate the number of iterations so far\n",
    "        #num_run += 1\n",
    "        #if max_f == 10:\n",
    "            #break\n",
    "    \n",
    "    # Reduce the temperature\n",
    "    T *= 1 - cooling_rate\n",
    "    fitness_hist.append(f_new)\n",
    "end_time = time.time()\n",
    "\n",
    "plt.plot(range(len(fitness_hist)), fitness_hist)\n",
    "plt.xlabel('Iterations')\n",
    "plt.ylabel('Fitness Score by Simulated Annealing')\n",
    "# Print the maximum value of the objective function and the corresppoinding solution\n",
    "print(\"The number of iteration it takes to achieve the maximum value:\", np.argmax(fitness_hist))\n",
    "print(\"Total time:\", (end_time - start_time))\n",
    "print(\"Average time per iteration:\", (end_time - start_time)/num_run)\n",
    "print(\"Maximum value of f(x) found by Simulated Annealing:\", max_f)\n",
    "print(\"Solution that achieves the maximum value is\", x)"
   ]
  },
  {
   "cell_type": "markdown",
   "id": "a1681bf1",
   "metadata": {},
   "source": [
    "##### Solve by Genetic Algorithm"
   ]
  },
  {
   "cell_type": "code",
   "execution_count": 555,
   "id": "673a11ce",
   "metadata": {},
   "outputs": [
    {
     "name": "stdout",
     "output_type": "stream",
     "text": [
      "The number of iteration it takes to achieve the maximum value: 26\n",
      "Total time: 0.08080005645751953\n",
      "Average time per iteration: 0.0008080005645751953\n",
      "Maximum value of f(x) found by Genetic Algorithm: 10\n",
      "Solution that achieves the maximum value is 1111111111\n"
     ]
    },
    {
     "data": {
      "image/png": "[encoded data removed]",
      "text/plain": [
       "<Figure size 432x288 with 1 Axes>"
      ]
     },
     "metadata": {
      "needs_background": "light"
     },
     "output_type": "display_data"
    }
   ],
   "source": [
    "# Define the length of the binary string\n",
    "n = 10\n",
    "\n",
    "# Define the population size and the number of generations\n",
    "pop_size = 50\n",
    "num_generations = 100\n",
    "\n",
    "# Define the mutation rate\n",
    "mutation_rate = 0.1\n",
    "\n",
    "# Define the initial population\n",
    "population = [''.join([str(random.randint(0,1)) for i in range(n)]) for j in range(pop_size)]\n",
    "num_run = 0\n",
    "# Main loop\n",
    "start_time = time.time()\n",
    "fitness_hist = []\n",
    "for gen in range(num_generations):\n",
    "    # Evaluate the fitness of each indiviual in the population\n",
    "    fitness = [f(x) for x in population]\n",
    "    \n",
    "    # Select the parents for the next generation using tournament selection\n",
    "    parents = []\n",
    "    for i in range(pop_size):\n",
    "        tournament = random.sample(range(pop_size),5)\n",
    "        tournament_fitness = [fitness[j] for j in tournament]\n",
    "        winner = tournament[tournament_fitness.index(max(tournament_fitness))]\n",
    "        parents.append(population[winner])\n",
    "        \n",
    "    # Generate the offspring for the next generation using crossover and mutation\n",
    "    offspring = []\n",
    "    for i in range(pop_size):\n",
    "        parent1 = parents[random.randint(0, pop_size-1)]\n",
    "        parent2 = parents[random.randint(0, pop_size-1)]\n",
    "        crossover_point = random.randint(0, n-1)\n",
    "        child = parent1[:crossover_point] + parent2[crossover_point:]\n",
    "        # At each gene level, introduce randomness\n",
    "        for j in range(n):\n",
    "            if random.uniform(0,1) < mutation_rate:\n",
    "                child = child[:j] + ('0' if child[j] == '1' else '1') + child[j+1:]\n",
    "        offspring.append(child)\n",
    "    # Replace the old popylation with the new offspring\n",
    "    population = offspring\n",
    "\n",
    "    # Evaluate the fitness of the final population and print the maximum value\n",
    "    fitness = [f(x) for x in population]\n",
    "    max_f = max(fitness)\n",
    "    max_x = population[fitness.index(max_f)]\n",
    "    # Calculate the number of iterations so far\n",
    "    #num_run += 1\n",
    "    #if max_f == 10:\n",
    "        #break\n",
    "    fitness_hist.append(np.mean(fitness))\n",
    "end_time = time.time()\n",
    "\n",
    "plt.plot(range(len(fitness_hist)), fitness_hist)\n",
    "plt.xlabel('Iterations')\n",
    "plt.ylabel('Fitness Score by Genetic Algorithm')\n",
    "    \n",
    "print(\"The number of iteration it takes to achieve the maximum value:\", np.argmax(fitness_hist) )\n",
    "print(\"Total time:\", (end_time - start_time))\n",
    "print(\"Average time per iteration:\", (end_time - start_time)/len(fitness_hist))\n",
    "print(\"Maximum value of f(x) found by Genetic Algorithm:\", max_f)\n",
    "print(\"Solution that achieves the maximum value is\", x)\n",
    "                \n",
    "        "
   ]
  },
  {
   "cell_type": "markdown",
   "id": "5ed1c433",
   "metadata": {},
   "source": [
    "##### Solve by MIMIC"
   ]
  },
  {
   "cell_type": "code",
   "execution_count": 556,
   "id": "37f215c7",
   "metadata": {},
   "outputs": [],
   "source": [
    "\n",
    "# Define MIMIC function\n",
    "def MIMIC(pop_size, keep_pct, max_attempts, max_iters):\n",
    "    # Initialize population\n",
    "    population = [''.join([str(random.randint(0,1)) for i in range(10)]) for j in range(pop_size)]\n",
    "    fitness_hist = []\n",
    "    start_time = time.time()\n",
    "    \n",
    "    # Initialize best state and fitness\n",
    "    best_state = None\n",
    "    best_fitness = -1\n",
    "    \n",
    "    # Begin MIMIC algorithm\n",
    "    for i in range(max_iters):\n",
    "        # Evaluate fitness of population\n",
    "        current_fitness = [f(x) for x in population]\n",
    "        \n",
    "        # Update best state and fitness\n",
    "        max_index = np.argmax(current_fitness)\n",
    "        if current_fitness[max_index] > best_fitness:\n",
    "            best_state = population[max_index]\n",
    "            best_fitness = current_fitness[max_index]\n",
    "            \n",
    "        # Select top percentage of samples to keep\n",
    "        num_to_keep = int(pop_size*keep_pct)\n",
    "        sorted_indices = list(np.argsort(current_fitness)[::-1])\n",
    "        kept_samples = np.array(population)[sorted_indices[:num_to_keep]]\n",
    "        \n",
    "        \n",
    "        # Update probability distribution\n",
    "        probs = np.mean(np.array([[int(bit) for bit in s] for s in kept_samples]), axis = 0)\n",
    "        \n",
    "        # Generate \n",
    "        new_samples = []\n",
    "        for i in range(pop_size - num_to_keep):\n",
    "            new_samples.append(''.join(x for x in list(['1' if random.random() < p else '0' for p in probs])))\n",
    "\n",
    "        \n",
    "        # Combine new and kept_samples\n",
    "        population = np.concatenate((kept_samples,new_samples))\n",
    "        \n",
    "        fitness_hist.append(np.mean(current_fitness))\n",
    "    \n",
    "    end_time = time.time()\n",
    "    \n",
    "    plt.plot(range(max_iters), fitness_hist)\n",
    "    plt.xlabel(\"iteration\")\n",
    "    plt.ylabel(\"mean of fitness score\")\n",
    "    plt.show()\n",
    "    #print(fitness_hist)\n",
    "    print(\"The number of iteration it takes to achieve the maximum value:\", np.argmax(fitness_hist))\n",
    "    print(\"Total time:\", (end_time - start_time))\n",
    "    print(\"Average time per iteration:\", (end_time - start_time)/max_iters)\n",
    "    print(\"Maximum value of f(x) found by MIMIC:\", best_fitness)\n",
    "    print(\"Solution that achieves the maximum value is\", best_state)"
   ]
  },
  {
   "cell_type": "code",
   "execution_count": 557,
   "id": "587cb611",
   "metadata": {},
   "outputs": [
    {
     "data": {
      "image/png": "[encoded data removed]",
      "text/plain": [
       "<Figure size 432x288 with 1 Axes>"
      ]
     },
     "metadata": {
      "needs_background": "light"
     },
     "output_type": "display_data"
    },
    {
     "name": "stdout",
     "output_type": "stream",
     "text": [
      "The number of iteration it takes to achieve the maximum value: 4\n",
      "Total time: 0.08516287803649902\n",
      "Average time per iteration: 0.0008516287803649902\n",
      "Maximum value of f(x) found by MIMIC: 10\n",
      "Solution that achieves the maximum value is 1111111111\n"
     ]
    }
   ],
   "source": [
    "MIMIC(pop_size=100, keep_pct=0.2, max_attempts=10, max_iters=100)"
   ]
  },
  {
   "cell_type": "markdown",
   "id": "b5e33a2a",
   "metadata": {},
   "source": [
    "##### Problem 2: Suppose we have a game board that consists of a 5x5 grid of squares. Each square is either black or white. We want to find the arrangement of colors that maximizes the number of pairs of adjacent squares that have the same color.\n",
    "\n",
    "We can represent each possible arrangement of black and white squares as a binary string of length 25, where a \"1\" represents a black square and a \"0\" represents a white square. We can assign a fitness score to each arrangement by counting the number of pairs of adjacent squares that have the same color."
   ]
  },
  {
   "cell_type": "markdown",
   "id": "0860d7b8",
   "metadata": {},
   "source": [
    "##### Solve problem 2 by simulated annealing"
   ]
  },
  {
   "cell_type": "code",
   "execution_count": 591,
   "id": "bfed97b7",
   "metadata": {},
   "outputs": [],
   "source": [
    "# Define the fitness function\n",
    "def fitness(state):\n",
    "    board = state.reshape((5,5))\n",
    "    pairs = 0\n",
    "    for i in range(5):\n",
    "        for j in range(5):\n",
    "            if j < 4 and board[i,j] == board[i,j+1]:\n",
    "                pairs += 1\n",
    "            if i < 4 and board[i,j] == board[i+1,j]:\n",
    "                pairs += 1\n",
    "    return pairs\n",
    "\n",
    "# Define the simulated annealing algorithm\n",
    "def simulated_annealing(fitness, n_iterations, T_init, T_decay):\n",
    "    \n",
    "    # Generate an initial random solution\n",
    "    current_solution = np.random.randint(2, size=25)\n",
    "    current_fitness = fitness(current_solution)\n",
    "    \n",
    "    # Set the initial temperature\n",
    "    T = T_init\n",
    "    start_time = time.time()\n",
    "    fitness_hist = [current_fitness]\n",
    "    # Run the simulated annealing algorithm\n",
    "    for i in range(n_iterations):\n",
    "        # Choose a random neighbor\n",
    "        neighbor = current_solution.copy()\n",
    "        index = random.randint(0,24) # randomly choose one square to flip the color\n",
    "        neighbor[index] = 1 - neighbor[index] # Flip the color of the chosen square\n",
    "        neighbor_fitness = fitness(neighbor)\n",
    "        \n",
    "        # If the new solution is better, accept it\n",
    "        if neighbor_fitness > current_fitness:\n",
    "            current_solution = neighbor\n",
    "            current_fitness = neighbor_fitness\n",
    "        # Otherwise, accept the new solution a a certain probability determined by the annealing schedule\n",
    "        else:\n",
    "            delta = neighbor_fitness - current_fitness\n",
    "            p_accept = np.exp(delta / T)\n",
    "            if random.random() < p_accept:\n",
    "                current_solution = neighbor\n",
    "                current_fitness = neighbor_fitness\n",
    "        # Decay the temperature\n",
    "        T *= T_decay\n",
    "        fitness_hist.append(current_fitness)\n",
    "    end_time = time.time()\n",
    "   \n",
    "    \n",
    "    plt.plot(range(n_iterations+1), fitness_hist)\n",
    "    plt.xlabel(\"iteration\")\n",
    "    plt.ylabel(\"fitness score\")\n",
    "    plt.show()\n",
    "    print(\"The number of iteration it takes to achieve the maximum value:\", np.argmax(fitness_hist))\n",
    "    print(\"Total time:\", (end_time - start_time))\n",
    "    print(\"Average time per iteration:\", (end_time - start_time)/n_iterations)\n",
    "    print(\"Maximum value of f(x) found by Simulated Annealing:\", max(fitness_hist))\n",
    "    print(\"Solution that achieves the maximum value is\", current_solution)\n",
    "                \n",
    " "
   ]
  },
  {
   "cell_type": "code",
   "execution_count": 592,
   "id": "65b11357",
   "metadata": {},
   "outputs": [
    {
     "data": {
      "image/png": "[encoded data removed]",
      "text/plain": [
       "<Figure size 432x288 with 1 Axes>"
      ]
     },
     "metadata": {
      "needs_background": "light"
     },
     "output_type": "display_data"
    },
    {
     "name": "stdout",
     "output_type": "stream",
     "text": [
      "The number of iteration it takes to achieve the maximum value: 308\n",
      "Total time: 0.0457308292388916\n",
      "Average time per iteration: 4.57308292388916e-05\n",
      "Maximum value of f(x) found by Simulated Annealing: 40\n",
      "Solution that achieves the maximum value is [0 0 0 0 0 0 0 0 0 0 0 0 0 0 0 0 0 0 0 0 0 0 0 0 0]\n"
     ]
    }
   ],
   "source": [
    "simulated_annealing(fitness, n_iterations=1000,T_init=10, T_decay=0.99)"
   ]
  },
  {
   "cell_type": "markdown",
   "id": "c9f51b3b",
   "metadata": {},
   "source": [
    "##### Solve problem 2 by Randomized Hill Climbing"
   ]
  },
  {
   "cell_type": "code",
   "execution_count": 593,
   "id": "9dddf8ad",
   "metadata": {},
   "outputs": [],
   "source": [
    "# Define the Randomized Hill Climbing algorithm\n",
    "def RHC(n_iterations):\n",
    "    # Generate a random initial solution\n",
    "    current_solution = np.random.randint(2, size=25)\n",
    "    current_fitness = fitness(current_solution)\n",
    "    \n",
    "    start_time = time.time()\n",
    "    fitness_hist = [current_fitness]\n",
    "    for i in range(n_iterations):\n",
    "        # Generate a new neighbor solution\n",
    "        neighbor = current_solution.copy()\n",
    "        index = random.randint(0,24)\n",
    "        neighbor[index] = 1 - neighbor[index]\n",
    "        neighbor_fitness = fitness(neighbor)\n",
    "        \n",
    "        if neighbor_fitness > current_fitness:\n",
    "            current_solution = neighbor\n",
    "            \n",
    "        current_fitness = fitness(current_solution)\n",
    "        fitness_hist.append(current_fitness)\n",
    "\n",
    "           \n",
    "    end_time = time.time()\n",
    "    \n",
    "    plt.plot(range(n_iterations+1), fitness_hist)\n",
    "    plt.xlabel(\"iteration\")\n",
    "    plt.ylabel(\"fitness score\")\n",
    "    plt.show()\n",
    "    print(\"The number of iteration it takes to achieve the maximum value:\", np.argmax(fitness_hist))\n",
    "    print(\"Total time:\", (end_time - start_time))\n",
    "    print(\"Average time per iteration:\", (end_time - start_time)/n_iterations)\n",
    "    print(\"Maximum value of f(x) found by RHC:\", max(fitness_hist))\n",
    "    print(\"Solution that achieves the maximum value is\", current_solution)\n",
    "    "
   ]
  },
  {
   "cell_type": "code",
   "execution_count": 594,
   "id": "2d4f92ce",
   "metadata": {},
   "outputs": [
    {
     "data": {
      "image/png": "[encoded data removed]",
      "text/plain": [
       "<Figure size 432x288 with 1 Axes>"
      ]
     },
     "metadata": {
      "needs_background": "light"
     },
     "output_type": "display_data"
    },
    {
     "name": "stdout",
     "output_type": "stream",
     "text": [
      "The number of iteration it takes to achieve the maximum value: 57\n",
      "Total time: 0.06580901145935059\n",
      "Average time per iteration: 6.580901145935059e-05\n",
      "Maximum value of f(x) found by RHC: 34\n",
      "Solution that achieves the maximum value is [1 1 1 1 0 1 1 1 1 0 1 1 1 1 0 1 1 1 0 0 1 1 1 0 0]\n"
     ]
    }
   ],
   "source": [
    "RHC(n_iterations=1000)"
   ]
  },
  {
   "cell_type": "markdown",
   "id": "0f8b6c0f",
   "metadata": {},
   "source": [
    "##### Solve problem 2 by Genetic algorithm"
   ]
  },
  {
   "cell_type": "code",
   "execution_count": 595,
   "id": "9bbbcbe7",
   "metadata": {},
   "outputs": [],
   "source": [
    "def GA(population_size, n_iterations, mutation_prob):\n",
    "    # Initialize the population\n",
    "    population = [np.random.randint(2, size=25) for j in range(population_size)]\n",
    "    fitness_hist = []\n",
    "    start_time = time.time()\n",
    "    for i in range(n_iterations):\n",
    "        # Evaluate fitness\n",
    "        current_fitness = [fitness(individual) for individual in population]\n",
    "        \n",
    "        # Select the fittest indiviuals for reproduction\n",
    "        fittest_indices = sorted(range(len(current_fitness)), key=lambda k: current_fitness[k], reverse=True)\n",
    "        fittest_population = [population[index] for index in fittest_indices[:int(population_size/2)]]\n",
    "        \n",
    "        # Create new individuals through crossover\n",
    "        new_population = []\n",
    "        while len(new_population) < population_size:\n",
    "            parent1 = random.choice(fittest_population)\n",
    "            parent2 = random.choice(fittest_population)\n",
    "            crossover_index = random.randint(1, 24)\n",
    "            child = list(parent1[:crossover_index]) + list(parent2[crossover_index:])\n",
    "            child = np.array(child)\n",
    "            new_population.append(child)\n",
    "            \n",
    "        # Mutate some individuals in the new population\n",
    "        for j in range(population_size):\n",
    "            for k in range(25):\n",
    "                if random.random() < mutation_prob:\n",
    "                    new_population[j][k] = 1 - new_population[j][k]\n",
    "        \n",
    "        # Replace the old population with the new population\n",
    "        population = new_population\n",
    "        \n",
    "        fitness_hist.append(np.mean(current_fitness))\n",
    "        \n",
    "    # Return the best solution found\n",
    "    final_fitness = [fitness(individual) for individual in population]\n",
    "    #fitness_hist.append(np.mean(final_fitness))\n",
    "    best_index = max(range(len(final_fitness)), key=final_fitness.__getitem__)\n",
    "    best_fitness = final_fitness[best_index]\n",
    "    best_solution = population[best_index]\n",
    "    end_time = time.time()\n",
    "    \n",
    "    plt.plot(range(n_iterations), fitness_hist)\n",
    "    plt.xlabel(\"iteration\")\n",
    "    plt.ylabel(\"mean of fitness score\")\n",
    "    plt.show()\n",
    "    print(\"The number of iteration it takes to achieve the maximum value:\", np.argmax(fitness_hist))\n",
    "    print(\"Total time:\", (end_time - start_time))\n",
    "    print(\"Average time per iteration:\", (end_time - start_time)/n_iterations)\n",
    "    print(\"Maximum value of f(x) found by Genetic algorithm:\", best_fitness)\n",
    "    print(\"Solution that achieves the maximum value is\", best_solution)"
   ]
  },
  {
   "cell_type": "code",
   "execution_count": 596,
   "id": "20a59165",
   "metadata": {},
   "outputs": [
    {
     "data": {
      "image/png": "[encoded data removed]",
      "text/plain": [
       "<Figure size 432x288 with 1 Axes>"
      ]
     },
     "metadata": {
      "needs_background": "light"
     },
     "output_type": "display_data"
    },
    {
     "name": "stdout",
     "output_type": "stream",
     "text": [
      "The number of iteration it takes to achieve the maximum value: 26\n",
      "Total time: 0.236253023147583\n",
      "Average time per iteration: 0.00236253023147583\n",
      "Maximum value of f(x) found by Genetic algorithm: 40\n",
      "Solution that achieves the maximum value is [1 1 1 1 1 1 1 1 1 1 1 1 1 1 1 1 1 1 1 1 1 1 1 1 1]\n"
     ]
    }
   ],
   "source": [
    "GA(population_size=100, n_iterations=100, mutation_prob=0.01)"
   ]
  },
  {
   "cell_type": "markdown",
   "id": "b4f421fa",
   "metadata": {},
   "source": [
    "##### Solve problem 2 by MIMIC"
   ]
  },
  {
   "cell_type": "code",
   "execution_count": 597,
   "id": "25aed462",
   "metadata": {},
   "outputs": [],
   "source": [
    "import numpy as np\n",
    "import random\n",
    "\n",
    "\n",
    "# Define MIMIC function\n",
    "def MIMIC(pop_size, keep_pct, max_attempts, max_iters):\n",
    "    # Initialize population\n",
    "    population = np.array([np.random.randint(2, size=25) for j in range(pop_size)])\n",
    "    fitness_hist = []\n",
    "    start_time = time.time()\n",
    "    \n",
    "    # Initialize best state and fitness\n",
    "    best_state = None\n",
    "    best_fitness = -1\n",
    "    \n",
    "    # Begin MIMIC algorithm\n",
    "    for i in range(max_iters):\n",
    "        # Evaluate fitness of population\n",
    "        current_fitness = [fitness(individual) for individual in population]\n",
    "        \n",
    "        # Update best state and fitness\n",
    "        max_index = np.argmax(current_fitness)\n",
    "        if current_fitness[max_index] > best_fitness:\n",
    "            best_state = population[max_index]\n",
    "            best_fitness = current_fitness[max_index]\n",
    "            \n",
    "        # Select top percentage of samples to keep\n",
    "        num_to_keep = int(pop_size*keep_pct)\n",
    "        sorted_indices = np.argsort(current_fitness)[::-1]\n",
    "        kept_samples = population[sorted_indices[:num_to_keep]]\n",
    "        \n",
    "        # Update probability distribution\n",
    "        probs = np.mean(kept_samples, axis=0)\n",
    "        \n",
    "        # Generate \n",
    "        new_samples = np.zeros((pop_size-num_to_keep, 25), dtype=int)\n",
    "        for i in range(num_to_keep, pop_size):\n",
    "            new_samples[i-num_to_keep] = np.array([1 if random.random() < p else 0 for p in probs])\n",
    "        \n",
    "        # Combine new and kept_samples\n",
    "        population = np.concatenate((kept_samples,new_samples))\n",
    "        \n",
    "        fitness_hist.append(np.mean(current_fitness))\n",
    "    \n",
    "    end_time = time.time()\n",
    "    \n",
    "    plt.plot(range(max_iters), fitness_hist)\n",
    "    plt.xlabel(\"iteration\")\n",
    "    plt.ylabel(\"mean of fitness score\")\n",
    "    plt.show()\n",
    "    print(\"The number of iteration it takes to achieve the maximum value:\", np.argmax(fitness_hist))\n",
    "    print(\"Total time:\", (end_time - start_time))\n",
    "    print(\"Average time per iteration:\", (end_time - start_time)/max_iters)\n",
    "    print(\"Maximum value of f(x) found by MIMIC:\", best_fitness)\n",
    "    print(\"Solution that achieves the maximum value is\", best_state)"
   ]
  },
  {
   "cell_type": "code",
   "execution_count": 599,
   "id": "bb807a6a",
   "metadata": {},
   "outputs": [
    {
     "data": {
      "image/png": "[encoded data removed]",
      "text/plain": [
       "<Figure size 432x288 with 1 Axes>"
      ]
     },
     "metadata": {
      "needs_background": "light"
     },
     "output_type": "display_data"
    },
    {
     "name": "stdout",
     "output_type": "stream",
     "text": [
      "The number of iteration it takes to achieve the maximum value: 11\n",
      "Total time: 0.21736502647399902\n",
      "Average time per iteration: 0.0021736502647399904\n",
      "Maximum value of f(x) found by MIMIC: 40\n",
      "Solution that achieves the maximum value is [0 0 0 0 0 0 0 0 0 0 0 0 0 0 0 0 0 0 0 0 0 0 0 0 0]\n"
     ]
    }
   ],
   "source": [
    "MIMIC(pop_size=100, keep_pct=0.2, max_attempts=10, max_iters=100)"
   ]
  },
  {
   "cell_type": "markdown",
   "id": "53b43136",
   "metadata": {},
   "source": [
    "##### Problem 3 : Traveling Salesman Problem (TSP)'s goal is to find the shortest possible route that visits a set of cities exactly once and returns to the starting city. Let's consider an example with 5 cities: A, B, C, D, and E.\n",
    "\n"
   ]
  },
  {
   "cell_type": "markdown",
   "id": "96f1f2ed",
   "metadata": {},
   "source": [
    "##### Solve problem 3 by Random Hill Climbing"
   ]
  },
  {
   "cell_type": "code",
   "execution_count": 612,
   "id": "70394e0d",
   "metadata": {},
   "outputs": [],
   "source": [
    "def create_distance_matrix(num_cities, seed=1):\n",
    "    \"\"\"Create a distance matrix for the TSP problem.\"\"\"\n",
    "    random.seed(seed)\n",
    "    distance_matrix = np.zeros((num_cities, num_cities))\n",
    "    for i in range(num_cities):\n",
    "        for j in range(i+1, num_cities):\n",
    "            distance_matrix[i][j] = random.randint(1, 10)\n",
    "            distance_matrix[j][i] = distance_matrix[i][j]\n",
    "    return distance_matrix"
   ]
  },
  {
   "cell_type": "code",
   "execution_count": 627,
   "id": "598ecc7f",
   "metadata": {},
   "outputs": [],
   "source": [
    "distance_matrix = create_distance_matrix(5, seed=1)"
   ]
  },
  {
   "cell_type": "code",
   "execution_count": 628,
   "id": "47fca4f4",
   "metadata": {},
   "outputs": [
    {
     "data": {
      "text/plain": [
       "array([[ 0.,  3., 10.,  2.,  5.],\n",
       "       [ 3.,  0.,  2.,  8.,  8.],\n",
       "       [10.,  2.,  0.,  8.,  7.],\n",
       "       [ 2.,  8.,  8.,  0.,  4.],\n",
       "       [ 5.,  8.,  7.,  4.,  0.]])"
      ]
     },
     "execution_count": 628,
     "metadata": {},
     "output_type": "execute_result"
    }
   ],
   "source": [
    "distance_matrix "
   ]
  },
  {
   "cell_type": "code",
   "execution_count": 629,
   "id": "21d4cfc9",
   "metadata": {},
   "outputs": [],
   "source": [
    "def calculate_tsp_cost(solution, distance_matrix):\n",
    "    \"\"\"Calculates the total cost of a TSP solution.\"\"\"\n",
    "    cost = 0\n",
    "    for i in range(len(solution)-1):\n",
    "        cost += distance_matrix[solution[i]][solution[i+1]]\n",
    "    cost += distance_matrix[solution[-1]][solution[0]]\n",
    "    return cost"
   ]
  },
  {
   "cell_type": "code",
   "execution_count": 630,
   "id": "4c2e4aea",
   "metadata": {},
   "outputs": [],
   "source": [
    "def tsp_random_hill_climb(distance_matrix, max_iterations):\n",
    "    \"\"\"Solves the Traveling Salesman Problem using randomized hill climbing.\"\"\"\n",
    "    num_cities = len(distance_matrix)\n",
    "    # Randomly initialize a starting solution.\n",
    "    current_solution = list(range(num_cities))\n",
    "    random.shuffle(current_solution)\n",
    "    current_cost = calculate_tsp_cost(current_solution, distance_matrix)\n",
    "    cost_hist = [current_cost]\n",
    "    start_time = time.time()\n",
    "    for i in range(max_iterations):\n",
    "        # Generate a random neighbor.\n",
    "        neighbor = current_solution.copy()\n",
    "        idx1 = random.randint(0, num_cities-1)\n",
    "        idx2 = random.randint(0, num_cities-1)\n",
    "        neighbor[idx1], neighbor[idx2] = neighbor[idx2], neighbor[idx1]\n",
    "        neighbor_cost = calculate_tsp_cost(neighbor, distance_matrix)\n",
    "        # If the neighbor has a better cost, move to it.\n",
    "        if neighbor_cost < current_cost:\n",
    "            current_solution = neighbor\n",
    "            current_cost = neighbor_cost\n",
    "            \n",
    "        cost_hist.append(current_cost)\n",
    "    end_time = time.time()\n",
    "    \n",
    "    plt.plot(range(max_iterations+1), cost_hist)\n",
    "    plt.xlabel(\"iteration\")\n",
    "    plt.ylabel(\"Cost\")\n",
    "    plt.show()\n",
    "    print(\"The number of iteration it takes to achieve the maximum value:\", np.argmin(cost_hist))\n",
    "    print(\"Total time:\", (end_time - start_time))\n",
    "    print(\"Average time per iteration:\", (end_time - start_time)/max_iterations)\n",
    "    print(\"Maximum value of f(x) found by random hill climbing:\", current_cost)\n",
    "    print(\"Solution that achieves the maximum value is\", current_solution)\n",
    "\n"
   ]
  },
  {
   "cell_type": "code",
   "execution_count": 631,
   "id": "45752924",
   "metadata": {
    "scrolled": true
   },
   "outputs": [
    {
     "data": {
      "image/png": "[encoded data removed]",
      "text/plain": [
       "<Figure size 432x288 with 1 Axes>"
      ]
     },
     "metadata": {
      "needs_background": "light"
     },
     "output_type": "display_data"
    },
    {
     "name": "stdout",
     "output_type": "stream",
     "text": [
      "The number of iteration it takes to achieve the maximum value: 13\n",
      "Total time: 0.0013942718505859375\n",
      "Average time per iteration: 1.3942718505859374e-05\n",
      "Maximum value of f(x) found by random hill climbing: 18.0\n",
      "Solution that achieves the maximum value is [2, 4, 3, 0, 1]\n"
     ]
    }
   ],
   "source": [
    "tsp_random_hill_climb(distance_matrix, 100)"
   ]
  },
  {
   "cell_type": "markdown",
   "id": "9d3726a5",
   "metadata": {},
   "source": [
    "##### Solve problem 3 by Simulated Annealing"
   ]
  },
  {
   "cell_type": "code",
   "execution_count": 632,
   "id": "e13db44e",
   "metadata": {},
   "outputs": [],
   "source": [
    "# Define the temperature and cooling rate\n",
    "temperature = 1.0\n",
    "cooling_rate = 0.99\n",
    "num_cities = 5\n",
    "n_iterations = 100\n",
    "# Define the function to get a random neighbor\n",
    "def get_random_neighbor(path):\n",
    "    i = random.randint(0, len(path)-1)\n",
    "    j = random.randint(0, len(path)-1)\n",
    "    neighbor = path[:]\n",
    "    neighbor[i], neighbor[j] = neighbor[j], neighbor[i]\n",
    "    return neighbor\n",
    "\n",
    "# Define the simulated annealing function\n",
    "def simulated_annealing(num_cities, temperature, cooling_rate, distance_matrix, n_iterations):\n",
    "    # Randomly initialize a starting solution.\n",
    "\n",
    "    init_state = list(range(num_cities))\n",
    "    random.shuffle(init_state)\n",
    "    current_state = init_state\n",
    "    best_state = current_state\n",
    "    start_time = time.time()\n",
    "    cost_hist = []\n",
    "    for i in range(n_iterations):\n",
    "        neighbor = get_random_neighbor(current_state)\n",
    "        current_energy = calculate_tsp_cost(current_state, distance_matrix)\n",
    "        neighbor_energy = calculate_tsp_cost(neighbor, distance_matrix)\n",
    "        if neighbor_energy < current_energy:\n",
    "            current_state = neighbor\n",
    "            if neighbor_energy < calculate_tsp_cost(best_state, distance_matrix):\n",
    "                best_state = neighbor\n",
    "        else:\n",
    "            delta = neighbor_energy - current_energy\n",
    "            acceptance_prob = math.exp(-delta/temperature)\n",
    "            if random.random() < acceptance_prob:\n",
    "                current_state = neighbor\n",
    "        temperature *= cooling_rate\n",
    "        \n",
    "        cost_hist.append(current_energy)\n",
    "     \n",
    "    end_time = time.time()\n",
    "\n",
    "    plt.plot(range(n_iterations), cost_hist)\n",
    "    plt.xlabel(\"iteration\")\n",
    "    plt.ylabel(\"Cost\")\n",
    "    plt.show()\n",
    "    print(\"The number of iteration it takes to achieve the maximum value:\", np.argmin(cost_hist))\n",
    "    print(\"Total time:\", (end_time - start_time))\n",
    "    print(\"Average time per iteration:\", (end_time - start_time)/n_iterations)\n",
    "    print(\"Maximum value of f(x) found by simulated annealing:\", current_energy)\n",
    "    print(\"Solution that achieves the maximum value is\", current_state)\n"
   ]
  },
  {
   "cell_type": "code",
   "execution_count": 633,
   "id": "70684ac4",
   "metadata": {
    "scrolled": true
   },
   "outputs": [
    {
     "data": {
      "image/png": "[encoded data removed]",
      "text/plain": [
       "<Figure size 432x288 with 1 Axes>"
      ]
     },
     "metadata": {
      "needs_background": "light"
     },
     "output_type": "display_data"
    },
    {
     "name": "stdout",
     "output_type": "stream",
     "text": [
      "The number of iteration it takes to achieve the maximum value: 5\n",
      "Total time: 0.0017349720001220703\n",
      "Average time per iteration: 1.7349720001220702e-05\n",
      "Maximum value of f(x) found by simulated annealing: 18.0\n",
      "Solution that achieves the maximum value is [1, 2, 4, 3, 0]\n"
     ]
    }
   ],
   "source": [
    "simulated_annealing(num_cities, temperature, cooling_rate, distance_matrix, n_iterations)"
   ]
  },
  {
   "cell_type": "markdown",
   "id": "95b108fd",
   "metadata": {},
   "source": [
    "##### Solve problem 3 by Generic algorithm"
   ]
  },
  {
   "cell_type": "code",
   "execution_count": 574,
   "id": "ab3e275c",
   "metadata": {},
   "outputs": [
    {
     "data": {
      "image/png": "[encoded data removed]",
      "text/plain": [
       "<Figure size 432x288 with 1 Axes>"
      ]
     },
     "metadata": {
      "needs_background": "light"
     },
     "output_type": "display_data"
    },
    {
     "name": "stdout",
     "output_type": "stream",
     "text": [
      "The number of iteration it takes to achieve the maximum value: 15\n",
      "Total time: 0.21906089782714844\n",
      "Average time per iteration: 0.0021906089782714844\n",
      "Maximum value of f(x) found by simulated annealing: 18.0\n",
      "Solution that achieves the maximum value is [3, 4, 2, 1, 0]\n"
     ]
    }
   ],
   "source": [
    "# Define the parameters for the generic algorithm\n",
    "population_size = 100\n",
    "mutation_rate = 0.1\n",
    "generations = 100\n",
    "\n",
    "# Define the fitness function for a given route\n",
    "def fitness(route):\n",
    "    total_distance = 0\n",
    "    for i in range(num_cities):\n",
    "        j = (i + 1) % num_cities\n",
    "        total_distance += distance_matrix[route[i]][route[j]]\n",
    "    return 1 / total_distance\n",
    "\n",
    "# Generate an initial population of random routes\n",
    "population = []\n",
    "for i in range(population_size):\n",
    "    population.append(random.sample(range(num_cities), num_cities))\n",
    "start_time = time.time()\n",
    "cost_hist = []\n",
    "# Evolve the population over multiple generations\n",
    "for generation in range(generations):\n",
    "    # Evaluate the fitness of each individual in the population\n",
    "    fitness_scores = [fitness(route) for route in population]\n",
    "    distance = [1/fitness(route) for route in population]\n",
    "\n",
    "    # Select parents for the next generation using roulette wheel selection\n",
    "    parents = []\n",
    "    for i in range(population_size):\n",
    "        parent1 = random.choices(population, weights=fitness_scores)[0]\n",
    "        parent2 = random.choices(population, weights=fitness_scores)[0]\n",
    "        parents.append((parent1, parent2))\n",
    "\n",
    "    # Create children through crossover and mutation\n",
    "    children = []\n",
    "    for parent1, parent2 in parents:\n",
    "        child = parent1[:]\n",
    "        for i in range(num_cities):\n",
    "            if random.random() < mutation_rate:\n",
    "                j = random.randint(0, num_cities - 1)\n",
    "                child[i], child[j] = child[j], child[i]\n",
    "        children.append(child)\n",
    "\n",
    "    # Replace the population with the children\n",
    "    population = children\n",
    "    cost_hist.append(np.mean(distance))\n",
    "end_time = time.time()\n",
    "# Select the best individual from the final generation\n",
    "best_route = max(population, key=fitness)\n",
    "best_fitness = fitness(best_route)\n",
    "shortest_distance = 1/best_fitness\n",
    "\n",
    "plt.plot(range(generations), cost_hist)\n",
    "plt.xlabel(\"iteration\")\n",
    "plt.ylabel(\"Cost\")\n",
    "plt.show()\n",
    "print(\"The number of iteration it takes to achieve the maximum value:\", np.argmin(cost_hist))\n",
    "print(\"Total time:\", (end_time - start_time))\n",
    "print(\"Average time per iteration:\", (end_time - start_time)/n_iterations)\n",
    "print(\"Maximum value of f(x) found by simulated annealing:\", shortest_distance)\n",
    "print(\"Solution that achieves the maximum value is\", best_route)\n",
    "\n"
   ]
  },
  {
   "cell_type": "markdown",
   "id": "80a7fc09",
   "metadata": {},
   "source": [
    "##### Solve problem 3 by MIMIC"
   ]
  },
  {
   "cell_type": "code",
   "execution_count": 267,
   "id": "b3e1babf",
   "metadata": {},
   "outputs": [
    {
     "data": {
      "text/plain": [
       "array([[ 0.,  3., 10.,  2.,  5.],\n",
       "       [ 3.,  0.,  2.,  8.,  8.],\n",
       "       [10.,  2.,  0.,  8.,  7.],\n",
       "       [ 2.,  8.,  8.,  0.,  4.],\n",
       "       [ 5.,  8.,  7.,  4.,  0.]])"
      ]
     },
     "execution_count": 267,
     "metadata": {},
     "output_type": "execute_result"
    }
   ],
   "source": [
    "distance_matrix"
   ]
  },
  {
   "cell_type": "code",
   "execution_count": 577,
   "id": "dfb91140",
   "metadata": {},
   "outputs": [],
   "source": [
    "\n",
    "\n",
    "class TSP:\n",
    "    def __init__(self, distance_matrix):\n",
    "        self.distance_matrix = distance_matrix\n",
    "        self.num_cities = len(distance_matrix)\n",
    "\n",
    "    def calculate_fitness(self, state):\n",
    "        # Calculate the total distance of the route\n",
    "        total_distance = 0\n",
    "        for i in range(self.num_cities - 1):\n",
    "            total_distance += self.distance_matrix[state[i], state[i+1]]\n",
    "        total_distance += self.distance_matrix[state[self.num_cities-1], state[0]]\n",
    "        # Fitness is the inverse of the total distance\n",
    "        fitness = 1 / total_distance\n",
    "        return fitness\n",
    "\n",
    "    def generate_random_state(self):\n",
    "        # Generate a random state (route)\n",
    "        state = list(range(self.num_cities))\n",
    "        random.shuffle(state)\n",
    "        return state\n",
    "\n",
    "    def get_neighbors(self, state):\n",
    "        # Get all possible neighboring states by swapping two cities\n",
    "        neighbors = []\n",
    "        for i in range(self.num_cities - 1):\n",
    "            for j in range(i+1, self.num_cities):\n",
    "                neighbor = state.copy()\n",
    "                neighbor[i], neighbor[j] = neighbor[j], neighbor[i]\n",
    "                neighbors.append(neighbor)\n",
    "        return neighbors\n",
    "\n",
    "\n",
    "class MIMIC_TSP:\n",
    "    def __init__(self, problem, population_size=100, keep_pct=0.2, max_attempts=10, max_iters=100):\n",
    "        self.problem = problem\n",
    "        self.population_size = population_size\n",
    "        self.keep_pct = keep_pct\n",
    "        self.max_attempts = max_attempts\n",
    "        self.max_iters = max_iters\n",
    "\n",
    "    def solve(self):\n",
    "        # Initialize population\n",
    "        population = [self.problem.generate_random_state() for i in range(self.population_size)]\n",
    "        best_fitness = float('-inf')\n",
    "        best_state = None\n",
    "        start_time = time.time()\n",
    "        cost_hist = []\n",
    "        for i in range(self.max_iters):\n",
    "            # Calculate fitness values for each member of the population\n",
    "            fitness_vals = [self.problem.calculate_fitness(state) for state in population]\n",
    "            \n",
    "            # Keep only the top percentage of the population\n",
    "            num_keep = int(self.population_size * self.keep_pct)\n",
    "            elite_population = [population[i] for i in np.argsort(fitness_vals)[-num_keep:]]\n",
    "            \n",
    "            # Create a probability distribution over the elite population\n",
    "            elite_probs = np.array([self.problem.calculate_fitness(state) for state in elite_population])\n",
    "            elite_probs /= elite_probs.sum()\n",
    "\n",
    "            # Generate a new population from the probability distribution\n",
    "            new_member_idx = np.random.choice(len(elite_population), self.population_size, p=elite_probs)\n",
    "            new_population = np.array(elite_population)[list(new_member_idx)]\n",
    "            # Replace the old population with the new one\n",
    "            population = new_population\n",
    "            \n",
    "            # Check for convergence\n",
    "            best_member = max(population, key=lambda x: self.problem.calculate_fitness(x))\n",
    "            best_member_fitness = self.problem.calculate_fitness(best_member)\n",
    "            if best_member_fitness > best_fitness:\n",
    "                best_fitness = best_member_fitness\n",
    "                best_state = best_member\n",
    "                \n",
    "            cost_hist.append(1/np.mean(fitness_vals))\n",
    "        end_time = time.time()\n",
    "        plt.plot(range(self.max_iters), cost_hist)\n",
    "        plt.xlabel(\"iteration\")\n",
    "        plt.ylabel(\"Cost\")\n",
    "        plt.show()\n",
    "        print(\"The number of iteration it takes to achieve the maximum value:\", np.argmin(cost_hist))\n",
    "        print(\"Total time:\", (end_time - start_time))\n",
    "        print(\"Average time per iteration:\", (end_time - start_time)/n_iterations)\n",
    "        print(\"Maximum value of f(x) found by MIMIC:\", 1/best_fitness)\n",
    "        print(\"Solution that achieves the maximum value is\", best_state)\n",
    "     \n",
    "       \n"
   ]
  },
  {
   "cell_type": "code",
   "execution_count": 578,
   "id": "e2dca1e5",
   "metadata": {
    "scrolled": true
   },
   "outputs": [
    {
     "data": {
      "image/png": "[encoded data removed]",
      "text/plain": [
       "<Figure size 432x288 with 1 Axes>"
      ]
     },
     "metadata": {
      "needs_background": "light"
     },
     "output_type": "display_data"
    },
    {
     "name": "stdout",
     "output_type": "stream",
     "text": [
      "The number of iteration it takes to achieve the maximum value: 2\n",
      "Total time: 0.09927487373352051\n",
      "Average time per iteration: 0.0009927487373352052\n",
      "Maximum value of f(x) found by MIMIC: 18.0\n",
      "Solution that achieves the maximum value is [2 1 0 3 4]\n"
     ]
    }
   ],
   "source": [
    "TSP_obj = TSP(distance_matrix)\n",
    "mimic_obj = MIMIC_TSP(TSP_obj,100, 0.2, 10, 100)\n",
    "mimic_obj.solve()"
   ]
  },
  {
   "cell_type": "code",
   "execution_count": 485,
   "id": "39220370",
   "metadata": {},
   "outputs": [
    {
     "data": {
      "text/plain": [
       "'/Users/shangwenhuang/Documents/omscs_ML/Assignment2'"
      ]
     },
     "execution_count": 485,
     "metadata": {},
     "output_type": "execute_result"
    }
   ],
   "source": [
    "import os\n",
    "os.getcwd()"
   ]
  },
  {
   "cell_type": "code",
   "execution_count": 498,
   "id": "60768e00",
   "metadata": {},
   "outputs": [],
   "source": [
    "from sklearn import preprocessing\n",
    "from sklearn.model_selection import train_test_split\n",
    "\n",
    "data = pd.read_csv(\"/Users/shangwenhuang/Documents/omscs_ML/Assignment1/data/Loan_prediction_dataset/train_loan_prediction.csv\")\n",
    "\n",
    "X = data[[\"Gender\", \"Married\", \"Dependents\", \"Education\", \"Self_Employed\", \"ApplicantIncome\"\n",
    "            ,\"CoapplicantIncome\", \"LoanAmount\", \"Loan_Amount_Term\", \"Credit_History\", \"Property_Area\"]]\n",
    "Y = np.where(data[\"Loan_Status\"]==\"Y\", 1, 0)\n",
    "X = pd.get_dummies(X, columns = ['Gender','Married','Dependents','Education','Property_Area','Self_Employed'])\n",
    "X.fillna(0, inplace = True)\n",
    "X = preprocessing.scale(X)\n",
    "\n",
    "train_data, test_data, train_label, test_label = train_test_split(X, Y, test_size = 0.2, random_state = 1)\n",
    "    \n",
    "    "
   ]
  },
  {
   "cell_type": "code",
   "execution_count": 634,
   "id": "aebdb992",
   "metadata": {},
   "outputs": [
    {
     "data": {
      "text/plain": [
       "(614, 20)"
      ]
     },
     "execution_count": 634,
     "metadata": {},
     "output_type": "execute_result"
    }
   ],
   "source": [
    "X.shape"
   ]
  },
  {
   "cell_type": "code",
   "execution_count": 510,
   "id": "f1e4bef4",
   "metadata": {},
   "outputs": [],
   "source": [
    "import numpy as np\n",
    "import mlrose\n",
    "from sklearn.metrics import accuracy_score\n",
    "\n",
    "# Define the problem as a neural network\n",
    "hidden_layers = [2]\n",
    "nn_model = mlrose.NeuralNetwork(hidden_nodes=hidden_layers, activation='relu',\n",
    "                                algorithm='random_hill_climb', max_iters=1000,\n",
    "                                bias=True, is_classifier=True, learning_rate=0.1,\n",
    "                                early_stopping=True, clip_max=5, max_attempts=100,\n",
    "                                random_state=1, curve = True)\n",
    "\n",
    "\n",
    "start_time = time.time()\n",
    "\n",
    "# Fit the neural network using RHC\n",
    "nn_model.fit(train_data, train_label)\n",
    "end_time = time.time()\n",
    "\n",
    "# Print the optimal weights\n",
    "#print(nn_model.weights)\n"
   ]
  },
  {
   "cell_type": "code",
   "execution_count": 511,
   "id": "bec242ff",
   "metadata": {},
   "outputs": [
    {
     "name": "stdout",
     "output_type": "stream",
     "text": [
      "Training accuracy:  0.7026476578411406\n",
      "Test accuracy:  0.7479674796747967\n",
      "Training time: 0.5367319583892822\n"
     ]
    }
   ],
   "source": [
    "\n",
    "# Predict labels for train set and assess accuracy\n",
    "y_train_pred = nn_model.predict(train_data)\n",
    "\n",
    "y_train_accuracy = accuracy_score(train_label, y_train_pred)\n",
    "\n",
    "print('Training accuracy: ', y_train_accuracy)\n",
    "\n",
    "# Predict labels for test set and assess accuracy\n",
    "y_test_pred = nn_model.predict(test_data)\n",
    "\n",
    "y_test_accuracy = accuracy_score(test_label, y_test_pred)\n",
    "\n",
    "print('Test accuracy: ', y_test_accuracy)\n",
    "print('Training time:', end_time - start_time)"
   ]
  },
  {
   "cell_type": "code",
   "execution_count": 512,
   "id": "5cbb1a31",
   "metadata": {},
   "outputs": [
    {
     "data": {
      "text/plain": [
       "<function matplotlib.pyplot.show(close=None, block=None)>"
      ]
     },
     "execution_count": 512,
     "metadata": {},
     "output_type": "execute_result"
    },
    {
     "data": {
      "image/png": "[encoded data removed]",
      "text/plain": [
       "<Figure size 432x288 with 1 Axes>"
      ]
     },
     "metadata": {
      "needs_background": "light"
     },
     "output_type": "display_data"
    }
   ],
   "source": [
    "plt.plot(range(len(nn_model.fitness_curve)), nn_model.fitness_curve)\n",
    "plt.xlabel('Iterations')\n",
    "plt.ylabel('Fitness Score by RHC')\n",
    "plt.show"
   ]
  },
  {
   "cell_type": "code",
   "execution_count": 517,
   "id": "e3c177fe",
   "metadata": {},
   "outputs": [],
   "source": [
    "# Define the problem as a neural network\n",
    "hidden_layers = [2]\n",
    "nn_model = mlrose.NeuralNetwork(hidden_nodes=hidden_layers, activation='relu',\n",
    "                                algorithm='simulated_annealing', max_iters=1000,\n",
    "                                bias=True, is_classifier=True, learning_rate=0.1,\n",
    "                                early_stopping=True, clip_max=5, max_attempts=100,\n",
    "                                random_state=1, curve = True)\n",
    "\n",
    "start_time = time.time()\n",
    "# Fit the neural network using RHC\n",
    "nn_model.fit(train_data, train_label)\n",
    "end_time = time.time()"
   ]
  },
  {
   "cell_type": "code",
   "execution_count": 518,
   "id": "78b1beaa",
   "metadata": {},
   "outputs": [
    {
     "name": "stdout",
     "output_type": "stream",
     "text": [
      "Training accuracy:  0.6313645621181263\n",
      "Test accuracy:  0.6178861788617886\n",
      "Training time: 0.7534852027893066\n"
     ]
    }
   ],
   "source": [
    "\n",
    "# Predict labels for train set and assess accuracy\n",
    "y_train_pred = nn_model.predict(train_data)\n",
    "\n",
    "y_train_accuracy = accuracy_score(train_label, y_train_pred)\n",
    "\n",
    "print('Training accuracy: ', y_train_accuracy)\n",
    "\n",
    "# Predict labels for test set and assess accuracy\n",
    "y_test_pred = nn_model.predict(test_data)\n",
    "\n",
    "y_test_accuracy = accuracy_score(test_label, y_test_pred)\n",
    "\n",
    "print('Test accuracy: ', y_test_accuracy)\n",
    "print('Training time:', end_time - start_time)"
   ]
  },
  {
   "cell_type": "code",
   "execution_count": 519,
   "id": "864025c0",
   "metadata": {},
   "outputs": [
    {
     "data": {
      "text/plain": [
       "<function matplotlib.pyplot.show(close=None, block=None)>"
      ]
     },
     "execution_count": 519,
     "metadata": {},
     "output_type": "execute_result"
    },
    {
     "data": {
      "image/png": "[encoded data removed]",
      "text/plain": [
       "<Figure size 432x288 with 1 Axes>"
      ]
     },
     "metadata": {
      "needs_background": "light"
     },
     "output_type": "display_data"
    }
   ],
   "source": [
    "plt.plot(range(len(nn_model.fitness_curve)), nn_model.fitness_curve)\n",
    "plt.xlabel('Iterations')\n",
    "plt.ylabel('Fitness Score by Simulated Annealing')\n",
    "plt.show"
   ]
  },
  {
   "cell_type": "code",
   "execution_count": 522,
   "id": "7b80d1da",
   "metadata": {},
   "outputs": [],
   "source": [
    "# Define the problem as a neural network\n",
    "hidden_layers = [2]\n",
    "nn_model = mlrose.NeuralNetwork(hidden_nodes=hidden_layers, activation='relu',\n",
    "                                algorithm='genetic_alg', max_iters=1000,\n",
    "                                bias=True, is_classifier=True, learning_rate=0.1,\n",
    "                                early_stopping=False, clip_max=5, max_attempts=100,\n",
    "                                random_state=1, curve = True)\n",
    "\n",
    "start_time = time.time()\n",
    "\n",
    "nn_model.fit(train_data, train_label)\n",
    "end_time = time.time()"
   ]
  },
  {
   "cell_type": "code",
   "execution_count": 523,
   "id": "44d03f7c",
   "metadata": {},
   "outputs": [
    {
     "name": "stdout",
     "output_type": "stream",
     "text": [
      "Training accuracy:  0.6496945010183299\n",
      "Test accuracy:  0.6422764227642277\n",
      "Training time: 83.69354796409607\n"
     ]
    }
   ],
   "source": [
    "\n",
    "# Predict labels for train set and assess accuracy\n",
    "y_train_pred = nn_model.predict(train_data)\n",
    "\n",
    "y_train_accuracy = accuracy_score(train_label, y_train_pred)\n",
    "\n",
    "print('Training accuracy: ', y_train_accuracy)\n",
    "\n",
    "# Predict labels for test set and assess accuracy\n",
    "y_test_pred = nn_model.predict(test_data)\n",
    "\n",
    "y_test_accuracy = accuracy_score(test_label, y_test_pred)\n",
    "\n",
    "print('Test accuracy: ', y_test_accuracy)\n",
    "print('Training time:', end_time - start_time)"
   ]
  },
  {
   "cell_type": "code",
   "execution_count": 524,
   "id": "0c620716",
   "metadata": {},
   "outputs": [
    {
     "data": {
      "text/plain": [
       "<function matplotlib.pyplot.show(close=None, block=None)>"
      ]
     },
     "execution_count": 524,
     "metadata": {},
     "output_type": "execute_result"
    },
    {
     "data": {
      "image/png": "[encoded data removed]",
      "text/plain": [
       "<Figure size 432x288 with 1 Axes>"
      ]
     },
     "metadata": {
      "needs_background": "light"
     },
     "output_type": "display_data"
    }
   ],
   "source": [
    "plt.plot(range(len(nn_model.fitness_curve)), nn_model.fitness_curve)\n",
    "plt.xlabel('Iterations')\n",
    "plt.ylabel('Fitness Score by Genetic Algorithm')\n",
    "plt.show"
   ]
  },
  {
   "cell_type": "code",
   "execution_count": null,
   "id": "999fe699",
   "metadata": {},
   "outputs": [],
   "source": []
  }
 ],
 "metadata": {
  "kernelspec": {
   "display_name": "Python 3 (ipykernel)",
   "language": "python",
   "name": "python3"
  },
  "language_info": {
   "codemirror_mode": {
    "name": "ipython",
    "version": 3
   },
   "file_extension": ".py",
   "mimetype": "text/x-python",
   "name": "python",
   "nbconvert_exporter": "python",
   "pygments_lexer": "ipython3",
   "version": "3.8.8"
  }
 },
 "nbformat": 4,
 "nbformat_minor": 5
}
